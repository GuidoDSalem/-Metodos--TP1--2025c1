{
 "cells": [
  {
   "cell_type": "markdown",
   "metadata": {},
   "source": [
    "# Imports"
   ]
  },
  {
   "cell_type": "code",
   "execution_count": null,
   "metadata": {},
   "outputs": [],
   "source": [
    "import numpy as np\n",
    "import pandas as pd\n",
    "import matplotlib.pyplot as plt\n",
    "import os"
   ]
  },
  {
   "cell_type": "markdown",
   "metadata": {},
   "source": [
    "## 1. Carga de datos\n",
    "\n",
    "Cargá el archivo con los datos del problema.\n"
   ]
  },
  {
   "cell_type": "code",
   "execution_count": null,
   "metadata": {},
   "outputs": [
    {
     "name": "stdout",
     "output_type": "stream",
     "text": [
      "   Hours Studied  Previous Scores Extracurricular Activities  Sleep Hours  \\\n",
      "0              7               99                        Yes            9   \n",
      "1              4               82                         No            4   \n",
      "2              8               51                        Yes            7   \n",
      "3              5               52                        Yes            5   \n",
      "4              7               75                         No            8   \n",
      "\n",
      "   Sample Question Papers Practiced  Performance Index  \n",
      "0                                 1               91.0  \n",
      "1                                 2               65.0  \n",
      "2                                 2               45.0  \n",
      "3                                 2               36.0  \n",
      "4                                 5               66.0  \n",
      "   Hours Studied  Previous Scores Extracurricular Activities  Sleep Hours  \\\n",
      "0              7               99                        Yes            9   \n",
      "1              4               82                         No            4   \n",
      "2              8               51                        Yes            7   \n",
      "3              5               52                        Yes            5   \n",
      "4              7               75                         No            8   \n",
      "\n",
      "   Sample Question Papers Practiced  Performance Index  \n",
      "0                                 1               91.0  \n",
      "1                                 2               65.0  \n",
      "2                                 2               45.0  \n",
      "3                                 2               36.0  \n",
      "4                                 5               66.0  \n"
     ]
    }
   ],
   "source": [
    "# PATH = \"Completar\"\n",
    "PATH = \"Student_Performance.csv\"\n",
    "\n",
    "df = pd.read_csv(PATH)\n",
    "\n",
    "print(df.head())"
   ]
  },
  {
   "cell_type": "markdown",
   "metadata": {},
   "source": [
    "## 2. Análisis exploratorio\n",
    "\n",
    "Estudiá la estructura del dataset: tipos de variables, valores faltantes y estadísticos descriptivos.\n",
    "\n",
    "Sugerencias: busca funciones como info y describe de pandas"
   ]
  },
  {
   "cell_type": "code",
   "execution_count": 12,
   "metadata": {},
   "outputs": [
    {
     "name": "stdout",
     "output_type": "stream",
     "text": [
      "<class 'pandas.core.frame.DataFrame'>\n",
      "RangeIndex: 10000 entries, 0 to 9999\n",
      "Data columns (total 6 columns):\n",
      " #   Column                            Non-Null Count  Dtype  \n",
      "---  ------                            --------------  -----  \n",
      " 0   Hours Studied                     10000 non-null  int64  \n",
      " 1   Previous Scores                   10000 non-null  int64  \n",
      " 2   Extracurricular Activities        10000 non-null  object \n",
      " 3   Sleep Hours                       10000 non-null  int64  \n",
      " 4   Sample Question Papers Practiced  10000 non-null  int64  \n",
      " 5   Performance Index                 10000 non-null  float64\n",
      "dtypes: float64(1), int64(4), object(1)\n",
      "memory usage: 468.9+ KB\n"
     ]
    },
    {
     "data": {
      "text/html": [
       "<div>\n",
       "<style scoped>\n",
       "    .dataframe tbody tr th:only-of-type {\n",
       "        vertical-align: middle;\n",
       "    }\n",
       "\n",
       "    .dataframe tbody tr th {\n",
       "        vertical-align: top;\n",
       "    }\n",
       "\n",
       "    .dataframe thead th {\n",
       "        text-align: right;\n",
       "    }\n",
       "</style>\n",
       "<table border=\"1\" class=\"dataframe\">\n",
       "  <thead>\n",
       "    <tr style=\"text-align: right;\">\n",
       "      <th></th>\n",
       "      <th>Hours Studied</th>\n",
       "      <th>Previous Scores</th>\n",
       "      <th>Sleep Hours</th>\n",
       "      <th>Sample Question Papers Practiced</th>\n",
       "      <th>Performance Index</th>\n",
       "    </tr>\n",
       "  </thead>\n",
       "  <tbody>\n",
       "    <tr>\n",
       "      <th>count</th>\n",
       "      <td>10000.000000</td>\n",
       "      <td>10000.000000</td>\n",
       "      <td>10000.000000</td>\n",
       "      <td>10000.000000</td>\n",
       "      <td>10000.000000</td>\n",
       "    </tr>\n",
       "    <tr>\n",
       "      <th>mean</th>\n",
       "      <td>4.992900</td>\n",
       "      <td>69.445700</td>\n",
       "      <td>6.530600</td>\n",
       "      <td>4.583300</td>\n",
       "      <td>55.224800</td>\n",
       "    </tr>\n",
       "    <tr>\n",
       "      <th>std</th>\n",
       "      <td>2.589309</td>\n",
       "      <td>17.343152</td>\n",
       "      <td>1.695863</td>\n",
       "      <td>2.867348</td>\n",
       "      <td>19.212558</td>\n",
       "    </tr>\n",
       "    <tr>\n",
       "      <th>min</th>\n",
       "      <td>1.000000</td>\n",
       "      <td>40.000000</td>\n",
       "      <td>4.000000</td>\n",
       "      <td>0.000000</td>\n",
       "      <td>10.000000</td>\n",
       "    </tr>\n",
       "    <tr>\n",
       "      <th>25%</th>\n",
       "      <td>3.000000</td>\n",
       "      <td>54.000000</td>\n",
       "      <td>5.000000</td>\n",
       "      <td>2.000000</td>\n",
       "      <td>40.000000</td>\n",
       "    </tr>\n",
       "    <tr>\n",
       "      <th>50%</th>\n",
       "      <td>5.000000</td>\n",
       "      <td>69.000000</td>\n",
       "      <td>7.000000</td>\n",
       "      <td>5.000000</td>\n",
       "      <td>55.000000</td>\n",
       "    </tr>\n",
       "    <tr>\n",
       "      <th>75%</th>\n",
       "      <td>7.000000</td>\n",
       "      <td>85.000000</td>\n",
       "      <td>8.000000</td>\n",
       "      <td>7.000000</td>\n",
       "      <td>71.000000</td>\n",
       "    </tr>\n",
       "    <tr>\n",
       "      <th>max</th>\n",
       "      <td>9.000000</td>\n",
       "      <td>99.000000</td>\n",
       "      <td>9.000000</td>\n",
       "      <td>9.000000</td>\n",
       "      <td>100.000000</td>\n",
       "    </tr>\n",
       "  </tbody>\n",
       "</table>\n",
       "</div>"
      ],
      "text/plain": [
       "       Hours Studied  Previous Scores   Sleep Hours  \\\n",
       "count   10000.000000     10000.000000  10000.000000   \n",
       "mean        4.992900        69.445700      6.530600   \n",
       "std         2.589309        17.343152      1.695863   \n",
       "min         1.000000        40.000000      4.000000   \n",
       "25%         3.000000        54.000000      5.000000   \n",
       "50%         5.000000        69.000000      7.000000   \n",
       "75%         7.000000        85.000000      8.000000   \n",
       "max         9.000000        99.000000      9.000000   \n",
       "\n",
       "       Sample Question Papers Practiced  Performance Index  \n",
       "count                      10000.000000       10000.000000  \n",
       "mean                           4.583300          55.224800  \n",
       "std                            2.867348          19.212558  \n",
       "min                            0.000000          10.000000  \n",
       "25%                            2.000000          40.000000  \n",
       "50%                            5.000000          55.000000  \n",
       "75%                            7.000000          71.000000  \n",
       "max                            9.000000         100.000000  "
      ]
     },
     "execution_count": 12,
     "metadata": {},
     "output_type": "execute_result"
    }
   ],
   "source": [
    "df.info()\n",
    "df.describe()"
   ]
  },
  {
   "cell_type": "markdown",
   "metadata": {},
   "source": [
    "## 3. Visualización\n",
    "\n",
    "Graficá las relaciones entre la variable dependiente y cada una de las explicativas.\n"
   ]
  },
  {
   "cell_type": "code",
   "execution_count": null,
   "metadata": {},
   "outputs": [],
   "source": [
    "# Reemplazá estos nombres por los nombres reales de las columnas\n",
    "columnas = [\"x1\", \"x2\", \"x3\"]\n",
    "target = \"y\"\n",
    "\n",
    "for col in columnas:\n",
    "    plt.scatter(df[col], df[target])\n",
    "    plt.xlabel(col)\n",
    "    plt.ylabel(target)\n",
    "    plt.title(f\"{target} vs {col}\")\n",
    "    plt.grid(True)\n",
    "    plt.show()\n"
   ]
  },
  {
   "cell_type": "markdown",
   "metadata": {},
   "source": [
    "## 4. Implementación de la regresión lineal múltiple (desde cero)\n",
    "\n",
    "Recordá que el modelo tiene la forma:\n",
    "\n",
    "\\\\[\n",
    "\\\\hat{y} = X \\\\beta\n",
    "\\\\]\n",
    "\n",
    "donde:\n",
    "\n",
    "- \\\\(X\\\\) es la matriz de diseño (con columna de 1s al principio)\n",
    "- \\\\(\\\\beta\\\\) son los coeficientes\n",
    "- \\\\(\\\\hat{y}\\\\) es la predicción\n"
   ]
  },
  {
   "cell_type": "code",
   "execution_count": null,
   "metadata": {},
   "outputs": [],
   "source": [
    "# Construcción de la matriz X y el vector y\n",
    "X_raw = df[columnas].values  # Matriz de variables independientes\n",
    "n = X_raw.shape[0]\n",
    "X = np.hstack([np.ones((n, 1)), X_raw])  # Agregamos columna de 1s para el término independiente\n",
    "\n",
    "y = df[target].values.reshape(-1, 1)\n"
   ]
  },
  {
   "cell_type": "markdown",
   "metadata": {},
   "source": [
    "### 4.1 Cálculo de los coeficientes utilizando la fórmula cerrada:\n",
    "\n",
    "\\\\[\n",
    "\\\\beta = (X^T X)^{-1} X^T y\n",
    "\\\\]\n"
   ]
  },
  {
   "cell_type": "code",
   "execution_count": null,
   "metadata": {},
   "outputs": [],
   "source": [
    "# Implementación manual\n",
    "Xt = X.T\n",
    "XtX = Xt @ X\n",
    "XtX_inv = np.linalg.inv(XtX)\n",
    "Xty = Xt @ y\n",
    "\n",
    "beta = XtX_inv @ Xty  # Coeficientes estimados\n",
    "beta.flatten()"
   ]
  },
  {
   "cell_type": "markdown",
   "metadata": {},
   "source": [
    "## 5. Predicción y evaluación del modelo\n"
   ]
  },
  {
   "cell_type": "code",
   "execution_count": null,
   "metadata": {},
   "outputs": [],
   "source": [
    "# Predicción\n",
    "y_pred = X @ beta\n",
    "\n",
    "# Cálculo del error cuadrático medio (MSE) y R^2\n",
    "mse = np.mean((y - y_pred) ** 2)\n",
    "sst = np.sum((y - np.mean(y)) ** 2)\n",
    "ssr = np.sum((y - y_pred) ** 2)\n",
    "r2 = 1 - (ssr / sst)\n",
    "\n",
    "print(\"MSE:\", mse)\n",
    "print(\"R^2:\", r2)\n"
   ]
  },
  {
   "cell_type": "markdown",
   "metadata": {},
   "source": [
    "## 6. Visualización del ajuste\n",
    "\n"
   ]
  },
  {
   "cell_type": "code",
   "execution_count": null,
   "metadata": {},
   "outputs": [],
   "source": [
    "plt.plot(y, label=\"Real\", marker='o')\n",
    "plt.plot(y_pred, label=\"Predicción\", marker='x')\n",
    "plt.title(\"Real vs Predicción\")\n",
    "plt.xlabel(\"Observación\")\n",
    "plt.ylabel(\"Valor\")\n",
    "plt.legend()\n",
    "plt.grid(True)\n",
    "plt.show()\n"
   ]
  },
  {
   "cell_type": "markdown",
   "metadata": {},
   "source": [
    "### Dataset cleaning"
   ]
  },
  {
   "cell_type": "code",
   "execution_count": null,
   "metadata": {},
   "outputs": [],
   "source": [
    "# Cargar los datos\n",
    "df = pd.read_csv(\"Student_Performance.csv\")\n",
    "\n",
    "# Variables predictoras (convertimos también los valores categóricos a numéricos)\n",
    "df['Extracurricular Activities'] = df['Extracurricular Activities'].map({'Yes': 1, 'No': 0})\n",
    "df['Sample Question Papers Practiced'] = pd.to_numeric(df['Sample Question Papers Practiced'], errors='coerce')\n",
    "\n",
    "# Eliminamos filas con valores faltantes si hay\n",
    "df = df.dropna()\n",
    "\n"
   ]
  },
  {
   "cell_type": "markdown",
   "metadata": {},
   "source": [
    "## 7. Conclusiones\n",
    "\n",
    "Comentá los resultados obtenidos: ¿cómo se comporta el modelo?, ¿los errores son bajos?, ¿qué variables parecen más relevantes?\n"
   ]
  },
  {
   "cell_type": "markdown",
   "metadata": {},
   "source": []
  },
  {
   "cell_type": "markdown",
   "metadata": {},
   "source": [
    "Cosas sueltas"
   ]
  },
  {
   "cell_type": "code",
   "execution_count": 11,
   "metadata": {},
   "outputs": [
    {
     "name": "stdout",
     "output_type": "stream",
     "text": [
      "Pendiente (m): 2.77306282463894\n",
      "Intercepto (b): 41.37917462286023\n",
      "Error cuadrático medio: 317.5336833078034\n"
     ]
    },
    {
     "data": {
      "image/png": "[encoded data removed]",
      "text/plain": [
       "<Figure size 640x480 with 1 Axes>"
      ]
     },
     "metadata": {},
     "output_type": "display_data"
    }
   ],
   "source": [
    "\n",
    "\n",
    "# Elegir las variables\n",
    "x = df[\"Hours Studied\"].values\n",
    "y = df[\"Performance Index\"].values\n",
    "\n",
    "# Número de datos\n",
    "n = len(x)\n",
    "\n",
    "# Calcular m (pendiente)\n",
    "numerador = n * np.sum(x * y) - np.sum(x) * np.sum(y)\n",
    "denominador = n * np.sum(x ** 2) - (np.sum(x)) ** 2\n",
    "m = numerador / denominador\n",
    "\n",
    "# Calcular b (intercepto)\n",
    "b = (np.sum(y) - m * np.sum(x)) / n\n",
    "\n",
    "print(f\"Pendiente (m): {m}\")\n",
    "print(f\"Intercepto (b): {b}\")\n",
    "\n",
    "# Predecir los valores de y\n",
    "y_pred = m * x + b\n",
    "\n",
    "# Evaluar el modelo con Error Cuadrático Medio (MSE)\n",
    "mse = np.mean((y - y_pred) ** 2)\n",
    "print(f\"Error cuadrático medio: {mse}\")\n",
    "\n",
    "# Opcional: graficar (si querés)\n",
    "import matplotlib.pyplot as plt\n",
    "\n",
    "plt.scatter(x, y, color='blue', label=\"Datos reales\")\n",
    "plt.plot(x, y_pred, color='red', label=\"Línea de regresión\")\n",
    "plt.xlabel(\"Horas de estudio\")\n",
    "plt.ylabel(\"Performance Index\")\n",
    "plt.legend()\n",
    "plt.title(\"Regresión Lineal desde Cero\")\n",
    "plt.grid(True)\n",
    "plt.show()\n"
   ]
  },
  {
   "cell_type": "code",
   "execution_count": null,
   "metadata": {},
   "outputs": [],
   "source": [
    "import pandas as pd\n",
    "import numpy as np\n",
    "\n",
    "# Cargar los datos\n",
    "df = pd.read_csv(\"Student_Performance.csv\")\n",
    "\n",
    "# Variables predictoras (convertimos también los valores categóricos a numéricos)\n",
    "df['Extracurricular Activities'] = df['Extracurricular Activities'].map({'Yes': 1, 'No': 0})\n",
    "df['Sample Question Papers Practiced'] = pd.to_numeric(df['Sample Question Papers Practiced'], errors='coerce')\n",
    "\n",
    "# Eliminamos filas con valores faltantes si hay\n",
    "df = df.dropna()\n",
    "\n",
    "# Matriz X de variables independientes\n",
    "X = df[['Hours Studied', 'Previous Scores', 'Extracurricular Activities', \n",
    "        'Sleep Hours', 'Sample Question Papers Practiced']].values\n",
    "\n",
    "# Agregamos columna de unos para el término independiente (bias)\n",
    "X = np.c_[np.ones(X.shape[0]), X]\n",
    "\n",
    "# Vector y (target)\n",
    "y = df['Performance Index'].values.reshape(-1, 1)\n",
    "\n",
    "# Cálculo de los coeficientes usando la fórmula de mínimos cuadrados\n",
    "# β = (X^T X)^-1 X^T y\n",
    "beta = np.linalg.inv(X.T.dot(X)).dot(X.T).dot(y)\n",
    "\n",
    "print(\"Coeficientes (incluye intercepto primero):\")\n",
    "print(beta.flatten())\n",
    "\n",
    "# Predicciones\n",
    "y_pred = X.dot(beta)\n",
    "\n",
    "# Evaluación del modelo: error cuadrático medio\n",
    "mse = np.mean((y - y_pred) ** 2)\n",
    "print(f\"Error cuadrático medio: {mse:.2f}\")\n"
   ]
  },
  {
   "cell_type": "markdown",
   "metadata": {},
   "source": [
    "### Regresion polinomica multivariada"
   ]
  },
  {
   "cell_type": "code",
   "execution_count": null,
   "metadata": {},
   "outputs": [],
   "source": [
    "import pandas as pd\n",
    "import numpy as np\n",
    "\n",
    "# Cargar datos\n",
    "df = pd.read_csv(\"Student_Performance.csv\")\n",
    "df['Extracurricular Activities'] = df['Extracurricular Activities'].map({'Yes': 1, 'No': 0})\n",
    "df['Sample Question Papers Practiced'] = pd.to_numeric(df['Sample Question Papers Practiced'], errors='coerce')\n",
    "df = df.dropna()\n",
    "\n",
    "# Variables base\n",
    "X_base = df[['Hours Studied', 'Previous Scores']].values\n",
    "y = df['Performance Index'].values.reshape(-1, 1)\n",
    "\n",
    "# Crear nuevas características polinómicas (grado 2)\n",
    "x1 = X_base[:, 0]\n",
    "x2 = X_base[:, 1]\n",
    "\n",
    "X_poly = np.column_stack((\n",
    "    np.ones(len(x1)),       # Intercepto\n",
    "    x1,\n",
    "    x2,\n",
    "    x1 ** 2,\n",
    "    x2 ** 2,\n",
    "    x1 * x2                 # Interacción\n",
    "))\n",
    "\n",
    "# Resolver beta\n",
    "beta = np.linalg.inv(X_poly.T @ X_poly) @ X_poly.T @ y\n",
    "\n",
    "# Predicción\n",
    "y_pred = X_poly @ beta\n",
    "\n",
    "# Error cuadrático medio\n",
    "mse = np.mean((y - y_pred) ** 2)\n",
    "\n",
    "# Mostrar resultados\n",
    "print(\"Coeficientes (β):\", beta.flatten())\n",
    "print(\"MSE:\", mse)"
   ]
  },
  {
   "cell_type": "markdown",
   "metadata": {},
   "source": [
    "# Segunda Parte"
   ]
  },
  {
   "cell_type": "markdown",
   "metadata": {},
   "source": [
    "### Ejercicio 3"
   ]
  },
  {
   "cell_type": "code",
   "execution_count": 45,
   "metadata": {},
   "outputs": [
    {
     "name": "stdout",
     "output_type": "stream",
     "text": [
      "Coeficientes con fórmula normal: [ 62513.29689726 -20836.32598463]\n"
     ]
    }
   ],
   "source": [
    "import numpy as np\n",
    "import pandas as pd\n",
    "import matplotlib.pyplot as plt\n",
    "\n",
    "# Leer los datos\n",
    "df = pd.read_csv(\"segunda_parte_csv\\ejercicio_3.csv\")\n",
    "\n",
    "# Armar matriz X con término independiente (columna de 1s)\n",
    "X = np.vstack([np.ones(len(df)), df[\"x\"]]).T\n",
    "y = df[\"y\"].values\n",
    "\n",
    "# a) Aproximar y graficar usando la fórmula normal: (X^T X)^(-1) X^T y\n",
    "XtX = X.T @ X\n",
    "XtX_inv = np.linalg.inv(XtX)  # Esto puede fallar si XtX no es invertible\n",
    "beta = XtX_inv @ X.T @ y\n",
    "\n",
    "print(\"Coeficientes con fórmula normal:\", beta)"
   ]
  },
  {
   "cell_type": "code",
   "execution_count": 46,
   "metadata": {},
   "outputs": [
    {
     "name": "stdout",
     "output_type": "stream",
     "text": [
      "Determinante de X^T X: 4.82800678337867e-07\n",
      "Rango de X^T X: 2\n"
     ]
    },
    {
     "data": {
      "image/png": "[encoded data removed]",
      "text/plain": [
       "<Figure size 640x480 with 1 Axes>"
      ]
     },
     "metadata": {},
     "output_type": "display_data"
    }
   ],
   "source": [
    "# b) ¿Qué ocurre? ¿Por qué?\n",
    "# Calculamos el determinante y el rango de X^T X\n",
    "print(\"Determinante de X^T X:\", np.linalg.det(X.T @ X))\n",
    "print(\"Rango de X^T X:\", np.linalg.matrix_rank(X.T @ X))\n",
    "# Graficar con los mismos x que los datos originales\n",
    "y_recta = X @ beta  # Predicciones en los mismos x\n",
    "\n",
    "plt.scatter(df[\"x\"], y, label='Datos')\n",
    "plt.plot(df[\"x\"], y_recta, color='red', label='Recta ajustada')\n",
    "plt.xlabel(\"x\")\n",
    "plt.ylabel(\"y\")\n",
    "plt.title(\"Ajuste con fórmula normal\")\n",
    "plt.legend()\n",
    "plt.grid(True)\n",
    "plt.show()\n",
    "\n"
   ]
  }
 ],
 "metadata": {
  "kernelspec": {
   "display_name": "td6",
   "language": "python",
   "name": "python3"
  },
  "language_info": {
   "codemirror_mode": {
    "name": "ipython",
    "version": 3
   },
   "file_extension": ".py",
   "mimetype": "text/x-python",
   "name": "python",
   "nbconvert_exporter": "python",
   "pygments_lexer": "ipython3",
   "version": "3.9.19"
  }
 },
 "nbformat": 4,
 "nbformat_minor": 2
}
